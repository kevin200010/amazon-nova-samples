{
 "cells": [
  {
   "cell_type": "markdown",
   "metadata": {},
   "source": [
    "# 얼굴 이미지에서 관상 생성하기\n",
    "\n",
    "이 노트북은 얼굴 이미지를 분석하여 관상을 생성하는 방법을 보여줍니다. 다음과 같은 2단계 프로세스를 사용합니다:\n",
    "\n",
    "1. **얼굴 분석**: Amazon Bedrock의 Nova 모델을 사용하여 얼굴 특징을 분석합니다.\n",
    "2. **관상 생성**: 분석된 얼굴 특징을 기반으로 관상을 생성합니다."
   ]
  },
  {
   "cell_type": "markdown",
   "metadata": {},
   "source": [
    "## 필요한 라이브러리 설치"
   ]
  },
  {
   "cell_type": "code",
   "execution_count": null,
   "metadata": {},
   "outputs": [],
   "source": [
    "# 필요한 라이브러리 설치\n",
    "!pip install boto3 pillow matplotlib"
   ]
  },
  {
   "cell_type": "markdown",
   "metadata": {},
   "source": [
    "## 필요한 라이브러리 임포트"
   ]
  },
  {
   "cell_type": "code",
   "execution_count": null,
   "metadata": {},
   "outputs": [],
   "source": [
    "import boto3\n",
    "import json\n",
    "import os\n",
    "import pprint\n",
    "from PIL import Image\n",
    "import matplotlib.pyplot as plt\n",
    "from botocore.exceptions import ClientError\n",
    "import logging\n",
    "import base64\n",
    "from io import BytesIO\n",
    "from IPython.display import display, HTML, Markdown\n",
    "\n",
    "# 로깅 설정\n",
    "logging.basicConfig(level=logging.INFO)\n",
    "logger = logging.getLogger(__name__)"
   ]
  },
  {
   "cell_type": "markdown",
   "metadata": {},
   "source": [
    "## AWS 자격 증명 확인"
   ]
  },
  {
   "cell_type": "code",
   "execution_count": null,
   "metadata": {},
   "outputs": [],
   "source": [
    "# AWS 자격 증명이 올바르게 설정되어 있는지 확인\n",
    "try:\n",
    "    boto3.client('sts').get_caller_identity()\n",
    "    print(\"✅ AWS 자격 증명이 올바르게 설정되어 있습니다.\")\n",
    "except Exception as e:\n",
    "    print(\"❌ AWS 자격 증명 설정에 문제가 있습니다.\")\n",
    "    print(f\"오류 메시지: {e}\")\n",
    "    print(\"AWS CLI를 사용하여 'aws configure' 명령으로 자격 증명을 설정하세요.\")"
   ]
  },
  {
   "cell_type": "markdown",
   "metadata": {},
   "source": [
    "## 이미지 로드 및 표시 함수"
   ]
  },
  {
   "cell_type": "code",
   "execution_count": null,
   "metadata": {},
   "outputs": [],
   "source": [
    "def load_and_display_image(image_path):\n",
    "    \"\"\"이미지를 로드하고 표시하는 함수\"\"\"\n",
    "    img = Image.open(image_path)\n",
    "    plt.figure(figsize=(8, 8))\n",
    "    plt.imshow(img)\n",
    "    plt.axis('off')\n",
    "    plt.title('얼굴 이미지')\n",
    "    plt.show()\n",
    "    return img"
   ]
  },
  {
   "cell_type": "markdown",
   "metadata": {},
   "source": [
    "## 이미지 경로 설정 및 이미지 표시"
   ]
  },
  {
   "cell_type": "code",
   "execution_count": null,
   "metadata": {},
   "outputs": [],
   "source": [
    "# 샘플 이미지 경로 설정\n",
    "image_path = \"sample/sample_face.png\"\n",
    "\n",
    "# 이미지 로드 및 표시\n",
    "img = load_and_display_image(image_path)"
   ]
  },
  {
   "cell_type": "markdown",
   "metadata": {},
   "source": [
    "## 1단계: 얼굴 분석 함수 구현 (Nova 모델 사용)"
   ]
  },
  {
   "cell_type": "code",
   "execution_count": null,
   "metadata": {},
   "outputs": [],
   "source": [
    "def analyze_face(image_path):\n",
    "    \"\"\"\n",
    "    얼굴 이미지를 분석하여 특징을 추출하는 함수 (Nova 모델 사용)\n",
    "    \"\"\"\n",
    "    # 모델 ID 설정 - Nova Lite 모델\n",
    "    model_id = \"us.amazon.nova-lite-v1:0\"\n",
    "    \n",
    "    # 이미지를 base64로 인코딩\n",
    "    with open(image_path, \"rb\") as image_file:\n",
    "        encoded_string = base64.b64encode(image_file.read()).decode('utf-8')\n",
    "    \n",
    "    # Bedrock 클라이언트 생성\n",
    "    bedrock_runtime = boto3.client('bedrock-runtime', region_name='us-east-1')\n",
    "    \n",
    "    # 프롬프트 작성\n",
    "    system_prompt = \"당신은 얼굴에 대해서 분석하는 AI 입니다. 얼굴에 대한 분석과 핵심 키워드를 추출하는 것이 역할입니다. 모든 출력의 내용에 얼굴에 대한 부정적인 내용은 담지 않습니다.\"\n",
    "    \n",
    "    user_prompt = \"\"\"\n",
    "이 사진 속 인물의 얼굴에 대해서 아래 요소들을 상세히 설명해서 <description> 태그 안에 서술형으로 작성해주세요.\n",
    "\n",
    "- 얼굴형 (둥근형, 계란형, 각진형 등)\n",
    "- 눈의 특징 (크기, 모양, 쌍꺼풀 유무 등)\n",
    "- 코의 특징 (길이, 모양, 콧대 높이 등)\n",
    "- 입술의 특징 (두께, 모양, 특이점 등)\n",
    "- 피부 특징 (피부톤, 특이점 등)\n",
    "- 특별히 도드라지는 얼굴 특징이나 표정\n",
    "- 헤어스타일 (길이, 컬러, 스타일 등)\n",
    "\n",
    "그리고 핵심 키워드 10개를 추출해서 <keywords> 태그 안에 작성해주세요.\n",
    "\"\"\"\n",
    "    \n",
    "    try:\n",
    "        # 시스템 프롬프트 설정\n",
    "        system_list = [\n",
    "            {\n",
    "                \"text\": system_prompt\n",
    "            }\n",
    "        ]\n",
    "        \n",
    "        # 사용자 메시지 설정 (이미지 포함)\n",
    "        message_list = [\n",
    "            {\n",
    "                \"role\": \"user\",\n",
    "                \"content\": [\n",
    "                    {\n",
    "                        \"image\": {\n",
    "                            \"format\": \"png\",\n",
    "                            \"source\": {\n",
    "                                \"bytes\": encoded_string\n",
    "                            }\n",
    "                        }\n",
    "                    },\n",
    "                    {\n",
    "                        \"text\": user_prompt\n",
    "                    }\n",
    "                ]\n",
    "            }\n",
    "        ]\n",
    "        \n",
    "        # 추론 파라미터 설정\n",
    "        inf_params = {\"maxTokens\": 1000, \"temperature\": 0.3}\n",
    "        \n",
    "        # 요청 본문 구성\n",
    "        native_request = {\n",
    "            \"schemaVersion\": \"messages-v1\",\n",
    "            \"messages\": message_list,\n",
    "            \"system\": system_list,\n",
    "            \"inferenceConfig\": inf_params\n",
    "        }\n",
    "        \n",
    "        # API 요청\n",
    "        response = bedrock_runtime.invoke_model(\n",
    "            modelId=model_id, \n",
    "            body=json.dumps(native_request)\n",
    "        )\n",
    "        \n",
    "        # 응답 처리\n",
    "        model_response = json.loads(response[\"body\"].read())\n",
    "        result_text = model_response[\"output\"][\"message\"][\"content\"][0][\"text\"]\n",
    "        \n",
    "        print(\"\\n얼굴 분석 결과:\")\n",
    "        print(result_text)\n",
    "        \n",
    "        return result_text\n",
    "\n",
    "    except ClientError as err:\n",
    "        message = err.response['Error']['Message']\n",
    "        logger.error(\"A client error occurred: %s\", message)\n",
    "        print(f\"클라이언트 오류 발생: {message}\")\n",
    "        return None"
   ]
  },
  {
   "cell_type": "markdown",
   "metadata": {},
   "source": [
    "## 얼굴 분석 실행"
   ]
  },
  {
   "cell_type": "code",
   "execution_count": null,
   "metadata": {},
   "outputs": [],
   "source": [
    "# 얼굴 분석 실행\n",
    "face_analysis = analyze_face(image_path)"
   ]
  },
  {
   "cell_type": "markdown",
   "metadata": {},
   "source": [
    "## 2단계: 관상 생성 함수 구현 (Nova 모델 사용)"
   ]
  },
  {
   "cell_type": "code",
   "execution_count": null,
   "metadata": {},
   "outputs": [],
   "source": [
    "def read_face(face_desc):\n",
    "    \"\"\"\n",
    "    얼굴 분석 결과를 기반으로 관상을 생성하는 함수 (Nova 모델 사용)\n",
    "    \"\"\"\n",
    "    # 모델 ID 설정 - Nova Lite 모델\n",
    "    model_id = \"us.amazon.nova-lite-v1:0\"\n",
    "    \n",
    "    # Bedrock 클라이언트 생성\n",
    "    bedrock_runtime = boto3.client('bedrock-runtime', region_name='us-east-1')\n",
    "    \n",
    "    # 프롬프트 작성\n",
    "    system_prompt = \"당신은 관상학 전문가입니다. 제공된 얼굴 분석 정보를 바탕으로 관상을 생성해주세요. 관상은 긍정적인 내용으로만 작성하고, 부정적인 내용은 포함하지 마세요.\"\n",
    "    \n",
    "    user_prompt = f\"\"\"\n",
    "다음 얼굴 분석 정보를 바탕으로 관상을 생성해주세요. 다음 항목에 대해 상세히 설명해주세요:\n",
    "\n",
    "1. 얼굴형과 전체적인 인상에 따른 성격과 운세\n",
    "2. 눈의 특징에 따른 지혜와 통찰력\n",
    "3. 코와 입의 특징에 따른 재물운과 대인관계\n",
    "4. 전체적인 얼굴 균형에 따른 미래 운세\n",
    "5. 종합적인 관상 해석과 조언\n",
    "\n",
    "얼굴 분석 정보:\n",
    "{face_desc}\n",
    "\"\"\"\n",
    "    \n",
    "    try:\n",
    "        # 시스템 프롬프트 설정\n",
    "        system_list = [\n",
    "            {\n",
    "                \"text\": system_prompt\n",
    "            }\n",
    "        ]\n",
    "        \n",
    "        # 사용자 메시지 설정\n",
    "        message_list = [\n",
    "            {\n",
    "                \"role\": \"user\",\n",
    "                \"content\": [\n",
    "                    {\n",
    "                        \"text\": user_prompt\n",
    "                    }\n",
    "                ]\n",
    "            }\n",
    "        ]\n",
    "        \n",
    "        # 추론 파라미터 설정\n",
    "        inf_params = {\"maxTokens\": 2000, \"temperature\": 0.3}\n",
    "        \n",
    "        # 요청 본문 구성\n",
    "        native_request = {\n",
    "            \"schemaVersion\": \"messages-v1\",\n",
    "            \"messages\": message_list,\n",
    "            \"system\": system_list,\n",
    "            \"inferenceConfig\": inf_params\n",
    "        }\n",
    "        \n",
    "        # API 요청\n",
    "        response = bedrock_runtime.invoke_model(\n",
    "            modelId=model_id, \n",
    "            body=json.dumps(native_request)\n",
    "        )\n",
    "        \n",
    "        # 응답 처리\n",
    "        model_response = json.loads(response[\"body\"].read())\n",
    "        result_text = model_response[\"output\"][\"message\"][\"content\"][0][\"text\"]\n",
    "        \n",
    "        print(\"\\n관상 생성 결과:\")\n",
    "        print(result_text)\n",
    "        \n",
    "        return result_text\n",
    "\n",
    "    except ClientError as err:\n",
    "        message = err.response['Error']['Message']\n",
    "        logger.error(\"A client error occurred: %s\", message)\n",
    "        print(f\"클라이언트 오류 발생: {message}\")\n",
    "        return None"
   ]
  },
  {
   "cell_type": "markdown",
   "metadata": {},
   "source": [
    "## 관상 생성 실행"
   ]
  },
  {
   "cell_type": "code",
   "execution_count": null,
   "metadata": {},
   "outputs": [],
   "source": [
    "# 관상 생성 실행\n",
    "fortune = read_face(face_analysis)"
   ]
  },
  {
   "cell_type": "markdown",
   "metadata": {},
   "source": [
    "## 결과 정리 및 표시"
   ]
  },
  {
   "cell_type": "code",
   "execution_count": null,
   "metadata": {},
   "outputs": [],
   "source": [
    "def display_results(face_analysis, fortune):\n",
    "    \"\"\"분석 결과와 관상을 순서대로 정리해서 표시하는 함수\"\"\"\n",
    "    \n",
    "    # HTML 콘텐츠 생성\n",
    "    html_content = f\"\"\"\n",
    "    <div style=\"margin-bottom: 20px;\">\n",
    "        <h2 style=\"color: #2E86C1;\">📊 얼굴 분석 결과</h2>\n",
    "        <div style=\"background-color: #EBF5FB; padding: 15px; border-radius: 5px; white-space: pre-wrap;\">\n",
    "            {face_analysis}\n",
    "        </div>\n",
    "    </div>\n",
    "    \n",
    "    <div>\n",
    "        <h2 style=\"color: #2E86C1;\">🔮 관상 결과</h2>\n",
    "        <div style=\"background-color: #EBF5FB; padding: 15px; border-radius: 5px; white-space: pre-wrap;\">\n",
    "            {fortune}\n",
    "        </div>\n",
    "    </div>\n",
    "    \"\"\"\n",
    "    \n",
    "    # HTML 표시\n",
    "    display(HTML(html_content))"
   ]
  },
  {
   "cell_type": "markdown",
   "metadata": {},
   "source": [
    "## 결과 표시"
   ]
  },
  {
   "cell_type": "code",
   "execution_count": null,
   "metadata": {},
   "outputs": [],
   "source": [
    "# 결과 표시\n",
    "display_results(face_analysis, fortune)"
   ]
  },
  {
   "cell_type": "markdown",
   "metadata": {},
   "source": [
    "## 전체 프로세스 통합 함수"
   ]
  },
  {
   "cell_type": "code",
   "execution_count": null,
   "metadata": {},
   "outputs": [],
   "source": [
    "def generate_face_fortune(image_path):\n",
    "    \"\"\"얼굴 이미지에서 관상을 생성하는 통합 함수\"\"\"\n",
    "    # 이미지 표시\n",
    "    load_and_display_image(image_path)\n",
    "    \n",
    "    # 1단계: 얼굴 분석\n",
    "    print(\"1단계: 얼굴 분석 중...\")\n",
    "    face_analysis = analyze_face(image_path)\n",
    "    \n",
    "    # 2단계: 관상 생성\n",
    "    print(\"\\n2단계: 관상 생성 중...\")\n",
    "    fortune = read_face(face_analysis)\n",
    "    \n",
    "    # 결과 표시\n",
    "    display_results(face_analysis, fortune)\n",
    "    \n",
    "    return face_analysis, fortune\n",
    "\n",
    "# 다른 이미지로 테스트하려면 아래 코드 사용\n",
    "# new_image_path = \"sample/another_face.png\"  # 다른 이미지 경로\n",
    "# face_analysis, fortune = generate_face_fortune(new_image_path)"
   ]
  }
 ],
 "metadata": {
  "kernelspec": {
   "display_name": "Python 3",
   "language": "python",
   "name": "python3"
  },
  "language_info": {
   "codemirror_mode": {
    "name": "ipython",
    "version": 3
   },
   "file_extension": ".py",
   "mimetype": "text/x-python",
   "name": "python",
   "nbconvert_exporter": "python",
   "pygments_lexer": "ipython3",
   "version": "3.11.13"
  }
 },
 "nbformat": 4,
 "nbformat_minor": 4
}
