{
 "cells": [
  {
   "cell_type": "markdown",
   "metadata": {},
   "source": [
    "# Face Analysis and Fortune Reading\n",
    "\n",
    "This notebook demonstrates how to analyze facial features and generate fortune readings based on those features. It uses a two-step process:\n",
    "\n",
    "1. **Face Analysis**: Using Amazon Bedrock's Nova model to analyze facial features.\n",
    "2. **Fortune Generation**: Creating a fortune reading based on the analyzed facial features."
   ]
  },
  {
   "cell_type": "markdown",
   "metadata": {},
   "source": [
    "## Installing Required Libraries"
   ]
  },
  {
   "cell_type": "code",
   "execution_count": null,
   "metadata": {},
   "outputs": [],
   "source": [
    "# Install required libraries\n",
    "!pip install boto3 pillow matplotlib"
   ]
  },
  {
   "cell_type": "markdown",
   "metadata": {},
   "source": [
    "## Importing Required Libraries"
   ]
  },
  {
   "cell_type": "code",
   "execution_count": null,
   "metadata": {},
   "outputs": [],
   "source": [
    "import boto3\n",
    "import json\n",
    "import os\n",
    "import pprint\n",
    "from PIL import Image\n",
    "import matplotlib.pyplot as plt\n",
    "from botocore.exceptions import ClientError\n",
    "import logging\n",
    "import base64\n",
    "from io import BytesIO\n",
    "from IPython.display import display, HTML, Markdown\n",
    "\n",
    "# Set up logging\n",
    "logging.basicConfig(level=logging.INFO)\n",
    "logger = logging.getLogger(__name__)"
   ]
  },
  {
   "cell_type": "markdown",
   "metadata": {},
   "source": [
    "## Verifying AWS Credentials"
   ]
  },
  {
   "cell_type": "code",
   "execution_count": null,
   "metadata": {},
   "outputs": [],
   "source": [
    "# Check if AWS credentials are properly configured\n",
    "try:\n",
    "    boto3.client('sts').get_caller_identity()\n",
    "    print(\"✅ AWS credentials are properly configured.\")\n",
    "except Exception as e:\n",
    "    print(\"❌ There's an issue with AWS credential configuration.\")\n",
    "    print(f\"Error message: {e}\")\n",
    "    print(\"Use 'aws configure' command with AWS CLI to set up credentials.\")"
   ]
  },
  {
   "cell_type": "markdown",
   "metadata": {},
   "source": [
    "## Image Loading and Display Function"
   ]
  },
  {
   "cell_type": "code",
   "execution_count": null,
   "metadata": {},
   "outputs": [],
   "source": [
    "def load_and_display_image(image_path):\n",
    "    \"\"\"Function to load and display an image\"\"\"\n",
    "    img = Image.open(image_path)\n",
    "    plt.figure(figsize=(8, 8))\n",
    "    plt.imshow(img)\n",
    "    plt.axis('off')\n",
    "    plt.title('Face Image')\n",
    "    plt.show()\n",
    "    return img"
   ]
  },
  {
   "cell_type": "markdown",
   "metadata": {},
   "source": [
    "## Setting Image Path and Displaying Image"
   ]
  },
  {
   "cell_type": "code",
   "execution_count": null,
   "metadata": {},
   "outputs": [],
   "source": [
    "# Set sample image path\n",
    "image_path = \"sample/sample_face.png\"\n",
    "\n",
    "# Load and display image\n",
    "img = load_and_display_image(image_path)"
   ]
  },
  {
   "cell_type": "markdown",
   "metadata": {},
   "source": [
    "## Step 1: Face Analysis Function Implementation (Using Nova Model)"
   ]
  },
  {
   "cell_type": "code",
   "execution_count": null,
   "metadata": {},
   "outputs": [],
   "source": [
    "def analyze_face(image_path):\n",
    "    \"\"\"\n",
    "    Function to analyze facial features from an image using Nova model\n",
    "    \"\"\"\n",
    "    # Set model ID - Nova Lite model\n",
    "    model_id = \"us.amazon.nova-lite-v1:0\"\n",
    "    \n",
    "    # Encode image as base64\n",
    "    with open(image_path, \"rb\") as image_file:\n",
    "        encoded_string = base64.b64encode(image_file.read()).decode('utf-8')\n",
    "    \n",
    "    # Create Bedrock client\n",
    "    bedrock_runtime = boto3.client('bedrock-runtime', region_name='us-east-1')\n",
    "    \n",
    "    # Create prompt\n",
    "    system_prompt = \"You are an AI specialized in facial analysis. Your role is to analyze facial features and extract key keywords. Do not include any negative content about the face in your output.\"\n",
    "    \n",
    "    user_prompt = \"\"\"\n",
    "Please describe the following facial elements of the person in this image in detail within <description> tags:\n",
    "\n",
    "- Face shape (round, oval, angular, etc.)\n",
    "- Eye characteristics (size, shape, double eyelids, etc.)\n",
    "- Nose characteristics (length, shape, bridge height, etc.)\n",
    "- Lip characteristics (thickness, shape, distinctive features, etc.)\n",
    "- Skin characteristics (skin tone, distinctive features, etc.)\n",
    "- Any particularly prominent facial features or expressions\n",
    "- Hairstyle (length, color, style, etc.)\n",
    "\n",
    "Also, extract 10 key keywords and list them within <keywords> tags.\n",
    "\"\"\"\n",
    "    \n",
    "    try:\n",
    "        # Set up system prompt\n",
    "        system_list = [\n",
    "            {\n",
    "                \"text\": system_prompt\n",
    "            }\n",
    "        ]\n",
    "        \n",
    "        # Set up user message (including image)\n",
    "        message_list = [\n",
    "            {\n",
    "                \"role\": \"user\",\n",
    "                \"content\": [\n",
    "                    {\n",
    "                        \"image\": {\n",
    "                            \"format\": \"png\",\n",
    "                            \"source\": {\n",
    "                                \"bytes\": encoded_string\n",
    "                            }\n",
    "                        }\n",
    "                    },\n",
    "                    {\n",
    "                        \"text\": user_prompt\n",
    "                    }\n",
    "                ]\n",
    "            }\n",
    "        ]\n",
    "        \n",
    "        # Set inference parameters\n",
    "        inf_params = {\"maxTokens\": 1000, \"temperature\": 0.3}\n",
    "        \n",
    "        # Construct request body\n",
    "        native_request = {\n",
    "            \"schemaVersion\": \"messages-v1\",\n",
    "            \"messages\": message_list,\n",
    "            \"system\": system_list,\n",
    "            \"inferenceConfig\": inf_params\n",
    "        }\n",
    "        \n",
    "        # Make API request\n",
    "        response = bedrock_runtime.invoke_model(\n",
    "            modelId=model_id, \n",
    "            body=json.dumps(native_request)\n",
    "        )\n",
    "        \n",
    "        # Process response\n",
    "        model_response = json.loads(response[\"body\"].read())\n",
    "        result_text = model_response[\"output\"][\"message\"][\"content\"][0][\"text\"]\n",
    "        \n",
    "        print(\"\\nFace Analysis Results:\")\n",
    "        print(result_text)\n",
    "        \n",
    "        return result_text\n",
    "\n",
    "    except ClientError as err:\n",
    "        message = err.response['Error']['Message']\n",
    "        logger.error(\"A client error occurred: %s\", message)\n",
    "        print(f\"A client error occured: {message}\")\n",
    "        return None"
   ]
  },
  {
   "cell_type": "markdown",
   "metadata": {},
   "source": [
    "## Running Face Analysis"
   ]
  },
  {
   "cell_type": "code",
   "execution_count": null,
   "metadata": {},
   "outputs": [],
   "source": [
    "# Run face analysis\n",
    "face_analysis = analyze_face(image_path)"
   ]
  },
  {
   "cell_type": "markdown",
   "metadata": {},
   "source": [
    "## Step 2: Fortune Generation Function Implementation (Using Nova Model)"
   ]
  },
  {
   "cell_type": "code",
   "execution_count": null,
   "metadata": {},
   "outputs": [],
   "source": [
    "def read_face(face_desc):\n",
    "    \"\"\"\n",
    "    Function to generate fortune reading based on facial analysis results using Nova model\n",
    "    \"\"\"\n",
    "    # Set model ID - Nova Lite model\n",
    "    model_id = \"us.amazon.nova-lite-v1:0\"\n",
    "    \n",
    "    # Create Bedrock client\n",
    "    bedrock_runtime = boto3.client('bedrock-runtime', region_name='us-east-1')\n",
    "    \n",
    "    # Create prompt\n",
    "    system_prompt = \"You are a face reading expert. Your task is to generate a fortune reading based on the provided facial analysis information. Include only positive content in your reading, avoiding any negative interpretations.\"\n",
    "    \n",
    "    user_prompt = f\"\"\"\n",
    "Based on the following facial analysis information, please provide a detailed fortune reading covering these areas:\n",
    "\n",
    "1. Personality and general fortune based on face shape and overall impression\n",
    "2. Wisdom and insight based on eye characteristics\n",
    "3. Wealth and interpersonal relationships based on nose and mouth characteristics\n",
    "4. Future prospects based on overall facial balance\n",
    "5. Comprehensive face reading interpretation and advice\n",
    "\n",
    "Facial Analysis Information:\n",
    "{face_desc}\n",
    "\"\"\"\n",
    "    \n",
    "    try:\n",
    "        # Set up system prompt\n",
    "        system_list = [\n",
    "            {\n",
    "                \"text\": system_prompt\n",
    "            }\n",
    "        ]\n",
    "        \n",
    "        # Set up user message\n",
    "        message_list = [\n",
    "            {\n",
    "                \"role\": \"user\",\n",
    "                \"content\": [\n",
    "                    {\n",
    "                        \"text\": user_prompt\n",
    "                    }\n",
    "                ]\n",
    "            }\n",
    "        ]\n",
    "        \n",
    "        # Set inference parameters\n",
    "        inf_params = {\"maxTokens\": 2000, \"temperature\": 0.3}\n",
    "        \n",
    "        # Construct request body\n",
    "        native_request = {\n",
    "            \"schemaVersion\": \"messages-v1\",\n",
    "            \"messages\": message_list,\n",
    "            \"system\": system_list,\n",
    "            \"inferenceConfig\": inf_params\n",
    "        }\n",
    "        \n",
    "        # Make API request\n",
    "        response = bedrock_runtime.invoke_model(\n",
    "            modelId=model_id, \n",
    "            body=json.dumps(native_request)\n",
    "        )\n",
    "        \n",
    "        # Process response\n",
    "        model_response = json.loads(response[\"body\"].read())\n",
    "        result_text = model_response[\"output\"][\"message\"][\"content\"][0][\"text\"]\n",
    "        \n",
    "        print(\"\\nFortune Reading Results:\")\n",
    "        print(result_text)\n",
    "        \n",
    "        return result_text\n",
    "\n",
    "    except ClientError as err:\n",
    "        message = err.response['Error']['Message']\n",
    "        logger.error(\"A client error occurred: %s\", message)\n",
    "        print(f\"A client error occured: {message}\")\n",
    "        return None"
   ]
  },
  {
   "cell_type": "markdown",
   "metadata": {},
   "source": [
    "## Running Fortune Generation"
   ]
  },
  {
   "cell_type": "code",
   "execution_count": null,
   "metadata": {},
   "outputs": [],
   "source": [
    "# Generate fortune reading\n",
    "fortune = read_face(face_analysis)"
   ]
  },
  {
   "cell_type": "markdown",
   "metadata": {},
   "source": [
    "## Organizing and Displaying Results"
   ]
  },
  {
   "cell_type": "code",
   "execution_count": null,
   "metadata": {},
   "outputs": [],
   "source": [
    "def display_results(face_analysis, fortune):\n",
    "    \"\"\"Function to organize and display analysis results and fortune readings\"\"\"\n",
    "    \n",
    "    # Generate HTML content\n",
    "    html_content = f\"\"\"\n",
    "    <div style=\"margin-bottom: 20px;\">\n",
    "        <h2 style=\"color: #2E86C1;\">📊 Face Analysis Results</h2>\n",
    "        <div style=\"background-color: #EBF5FB; padding: 15px; border-radius: 5px; white-space: pre-wrap;\">\n",
    "            {face_analysis}\n",
    "        </div>\n",
    "    </div>\n",
    "    \n",
    "    <div>\n",
    "        <h2 style=\"color: #2E86C1;\">🔮 Fortune Reading Results</h2>\n",
    "        <div style=\"background-color: #EBF5FB; padding: 15px; border-radius: 5px; white-space: pre-wrap;\">\n",
    "            {fortune}\n",
    "        </div>\n",
    "    </div>\n",
    "    \"\"\"\n",
    "    \n",
    "    # Display HTML\n",
    "    display(HTML(html_content))"
   ]
  },
  {
   "cell_type": "markdown",
   "metadata": {},
   "source": [
    "## Displaying Results"
   ]
  },
  {
   "cell_type": "code",
   "execution_count": null,
   "metadata": {},
   "outputs": [],
   "source": [
    "# Display results\n",
    "display_results(face_analysis, fortune)"
   ]
  },
  {
   "cell_type": "markdown",
   "metadata": {},
   "source": [
    "## Integrated Process Function"
   ]
  },
  {
   "cell_type": "code",
   "execution_count": null,
   "metadata": {},
   "outputs": [],
   "source": [
    "def generate_face_fortune(image_path):\n",
    "    \"\"\"Integrated function to generate fortune reading from a face image\"\"\"\n",
    "    # Display image\n",
    "    load_and_display_image(image_path)\n",
    "    \n",
    "    # Step 1: Face Analysis\n",
    "    print(\"Step 1: Analyzing facial features...\")\n",
    "    face_analysis = analyze_face(image_path)\n",
    "    \n",
    "    # Step 2: Fortune Generation\n",
    "    print(\"\\nStep 2: Generating fortune reading...\")\n",
    "    fortune = read_face(face_analysis)\n",
    "    \n",
    "    # Display results\n",
    "    display_results(face_analysis, fortune)\n",
    "    \n",
    "    return face_analysis, fortune\n",
    "\n",
    "# To test with another image, use the code below\n",
    "# new_image_path = \"sample/another_face.png\"  # Another image path\n",
    "# face_analysis, fortune = generate_face_fortune(new_image_path)"
   ]
  }
 ],
 "metadata": {
  "kernelspec": {
   "display_name": "Python 3",
   "language": "python",
   "name": "python3"
  },
  "language_info": {
   "codemirror_mode": {
    "name": "ipython",
    "version": 3
   },
   "file_extension": ".py",
   "mimetype": "text/x-python",
   "name": "python",
   "nbconvert_exporter": "python",
   "pygments_lexer": "ipython3",
   "version": "3.11.13"
  }
 },
 "nbformat": 4,
 "nbformat_minor": 4
}
