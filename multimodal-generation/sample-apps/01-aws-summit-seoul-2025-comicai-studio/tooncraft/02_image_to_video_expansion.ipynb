{
 "cells": [
  {
   "cell_type": "markdown",
   "metadata": {},
   "source": [
    "# Install Requirements"
   ]
  },
  {
   "cell_type": "code",
   "execution_count": null,
   "metadata": {},
   "outputs": [],
   "source": [
    "import sys\n",
    "import subprocess\n",
    "\n",
    "def install_packages():\n",
    "    \"\"\"Automatically install required packages\"\"\"\n",
    "    packages = [\n",
    "        'boto3>=1.26.0',\n",
    "        'requests>=2.26.0',\n",
    "        'requests-aws4auth>=1.3.0',\n",
    "        'pillow==11.2.1',\n",
    "        # 'ipython==8.30.0'\n",
    "    ]\n",
    "    \n",
    "    print(\"📦 Installing required packages...\")\n",
    "    for package in packages:\n",
    "        try:\n",
    "            subprocess.check_call([sys.executable, '-m', 'pip', 'install', package])\n",
    "            print(f\"✅ {package} installed successfully\")\n",
    "        except subprocess.CalledProcessError as e:\n",
    "            print(f\"❌ Failed to install {package}: {e}\")\n",
    "    \n",
    "    print(\"\\n🎉 Package installation complete! Run the next cell.\")\n",
    "\n",
    "install_packages()"
   ]
  },
  {
   "cell_type": "code",
   "execution_count": null,
   "metadata": {},
   "outputs": [],
   "source": [
    "import json\n",
    "import time\n",
    "from bedrock_text import BedrockText\n",
    "from bedrock_image import BedrockAmazonImage, NovaImageSize, ImageParams\n",
    "from bedrock_video import BedrockAmazonVideo, VideoStatus\n",
    "from bedrock_model import BedrockModel\n",
    "from image_utils import (\n",
    "    get_image_bytes_from_file,\n",
    "    bytes_to_image,\n",
    "    encode_image_base64,\n",
    "    display_image,\n",
    "    display_image_bytes,\n",
    "    display_video_bytes,\n",
    "    create_outpainting_mask\n",
    ")"
   ]
  },
  {
   "cell_type": "markdown",
   "metadata": {},
   "source": [
    "## 0. Declare required models, classes, variables, and data"
   ]
  },
  {
   "cell_type": "code",
   "execution_count": null,
   "metadata": {},
   "outputs": [],
   "source": [
    "AWS_REGION = \"us-east-1\"\n",
    "S3_VIDEO_BUCKET = \"<your-bucket-name>\" # Replace with you S3 bucket name\n",
    "\n",
    "SAMPLE_IMAGE_PATH = \"./img/ref1-sole hamburger.png\"\n",
    "SAMPLE_IMAGE_FORMAT = \"png\"\n",
    "\n",
    "if S3_VIDEO_BUCKET == \"<your-bucket-name>\":\n",
    "    print(\"⚠️ WARNING: Please update the 'S3_VIDEO_BUCKET' with your actual S3 bucket name.\")"
   ]
  },
  {
   "cell_type": "code",
   "execution_count": null,
   "metadata": {},
   "outputs": [],
   "source": [
    "# LLM model\n",
    "bedrock_llm = BedrockText(modelId=BedrockModel.NOVA_LITE_CR, region=AWS_REGION)\n",
    "\n",
    "# Image model\n",
    "bedrock_image = BedrockAmazonImage(region=AWS_REGION, modelId=BedrockModel.NOVA_CANVAS)\n",
    "\n",
    "# Video model\n",
    "bedrock_video = BedrockAmazonVideo(\n",
    "    region=AWS_REGION,\n",
    "    modelId=BedrockModel.NOVA_REEL,\n",
    "    bucket_name=S3_VIDEO_BUCKET\n",
    ")"
   ]
  },
  {
   "cell_type": "code",
   "execution_count": null,
   "metadata": {},
   "outputs": [],
   "source": [
    "# sample image\n",
    "img_bytes = get_image_bytes_from_file(file_path=SAMPLE_IMAGE_PATH, format=SAMPLE_IMAGE_FORMAT)\n",
    "display_image_bytes(img_bytes)\n",
    "\n",
    "# (Optional) if you have any information about the image, fill in this field.\n",
    "photo_text = \"\""
   ]
  },
  {
   "cell_type": "markdown",
   "metadata": {},
   "source": [
    "## 1. Creating image prompts for outpainting (Nova Lite)"
   ]
  },
  {
   "cell_type": "code",
   "execution_count": null,
   "metadata": {},
   "outputs": [],
   "source": [
    "PROMPT = f\"\"\"You are a copywriter who looks at an image and creates ideas to expand that image.\n",
    "Refer to the given image and image description to write an expanded image description in one sentence in English.\n",
    "\n",
    "## Image Description\n",
    "\n",
    "{photo_text}\n",
    "\n",
    "## Output Format\n",
    "\n",
    "Please provide your description in the following format, without any additional explanation:\n",
    "{{\n",
    "    \"image_prompt\": \"A one-sentence visual description of the food items included in the image\"\n",
    "}}\n",
    "\"\"\"\n",
    "\n",
    "res = bedrock_llm.converse_output(text=PROMPT, image=img_bytes, format=SAMPLE_IMAGE_FORMAT)\n",
    "outpainting_prompt = json.loads(res).get('image_prompt', '')\n",
    "print(outpainting_prompt)"
   ]
  },
  {
   "cell_type": "markdown",
   "metadata": {},
   "source": [
    "## 2. Expand an image (Nova Canvas)"
   ]
  },
  {
   "cell_type": "code",
   "execution_count": null,
   "metadata": {},
   "outputs": [],
   "source": [
    "img = bytes_to_image(img_bytes)\n",
    "\n",
    "width, height = NovaImageSize.SIZE_1280x720.value\n",
    "image_params = ImageParams(\n",
    "    count=1,\n",
    "    width=width,\n",
    "    height=height,\n",
    "    cfg=8.0,\n",
    "    seed=124,\n",
    ")"
   ]
  },
  {
   "cell_type": "code",
   "execution_count": null,
   "metadata": {},
   "outputs": [],
   "source": [
    "extended_image, mask_image = create_outpainting_mask(\n",
    "    img,\n",
    "    width,\n",
    "    height,\n",
    "    position=(0.5, 0.5),\n",
    "    size_ratio=0.7,\n",
    ")\n",
    "\n",
    "extended_image_base64 = encode_image_base64(extended_image)\n",
    "mask_image_base64 = encode_image_base64(mask_image)\n",
    "\n",
    "display_image(extended_image_base64)\n",
    "display_image(mask_image_base64)"
   ]
  },
  {
   "cell_type": "code",
   "execution_count": null,
   "metadata": {},
   "outputs": [],
   "source": [
    "body = image_params.outpainting(image=extended_image_base64,\n",
    "                                mask_image=mask_image_base64,\n",
    "                                text=outpainting_prompt)\n",
    "img = bedrock_image.generate_image(body)\n",
    "display_image(img)"
   ]
  },
  {
   "cell_type": "markdown",
   "metadata": {},
   "source": [
    "## 3. Generate a Video Prompt (Nova Lite)"
   ]
  },
  {
   "cell_type": "code",
   "execution_count": null,
   "metadata": {},
   "outputs": [],
   "source": [
    "PROMPT = f\"\"\"You are a prompt engineer specializing in crafting prompts for image-to-video generation.\n",
    "Refer to the given image and image description to write a dynamic, high-quality video generation prompt in English\n",
    "\n",
    "## Image Description\n",
    "{photo_text}\n",
    "\n",
    "## Instruction\n",
    "Video generation models work best with descriptive prompts rather than command-based instructions. When crafting prompts, focus on what you want to see rather than telling the model what to do. Think of writing a detailed caption or scene description like you’re explaining a video that already exists. For example, describing elements like the main subjects, what they’re doing, the setting around them, how the scene is lit, the overall artistic style, and any camera movements can help create more accurate results. The key is to paint a complete picture through description rather than giving step-by-step directions. This means instead of saying “create a dramatic scene,” you could describe “a stormy beach at sunset with crashing waves and dark clouds, filmed with a slow aerial shot moving over the coastline.” The more specific and descriptive you can be about the visual elements you want, the better the output will be. You might want to include details about the subject, action, environment, lighting, style, and camera motion.\n",
    "\n",
    "When writing a video generation prompt for Nova Reel, be mindful of the following requirements and best practices:\n",
    "\n",
    "Prompts must be no longer than 512 characters.\n",
    "For best results, place camera movement descriptions at the start or end of your prompt.\n",
    "Specify what you want to include rather than what to exclude. For example, instead of “fruit basket with no bananas,” say “fruit basket with apples, oranges, and pears.”\n",
    "When describing camera movements in your video prompts, be specific about the type of motion you want—whether it’s a smooth dolly shot (moving forward/backward), a pan (sweeping left/right), or a tilt (moving up/down). For more dynamic effects, you can request aerial shots, orbit movements, or specialized techniques like dolly zooms. You can also specify the speed of the movement\n",
    "\n",
    "## Example\n",
    "- Track right shot of single red balloon floating through empty subway tunnel. Balloon glows from within, casting soft red light on concrete walls. Cinematic 4k, moody lighting\n",
    "- Dolly in shot of peaceful deer drinking from forest stream. Sunlight filtering through and bokeh of other deer and forest plants. 4k cinematic.\n",
    "- Orbit shot of crystal light bulb centered on polished marble surface, gentle floating gears spinning inside with golden glow. Premium lighting. 4k cinematic.\n",
    "- Pedestal down in a pan in modern kitchen penne pasta with heavy cream white sauce on top, mushrooms and garlic, steam coming out.\n",
    "- Orbit shot of premium over-ear headphones on a reflective surface. Dramatic side lighting accentuates the curves and edges, casting subtle shadows that highlight the product’s premium build quality.\n",
    "\n",
    "## Output format\n",
    "\n",
    "Please provide your description in the following format, without any additional explanation:\n",
    "{{\n",
    "    \"video_prompt\": \"Video generation prompt in English\"\n",
    "}}\n",
    "\"\"\"\n",
    "\n",
    "res = bedrock_llm.converse_output(text=PROMPT)\n",
    "video_prompt = json.loads(res).get('video_prompt', '')\n",
    "print(video_prompt)"
   ]
  },
  {
   "cell_type": "markdown",
   "metadata": {},
   "source": [
    "## 4. Generate an image-to-video (Nova Reel)"
   ]
  },
  {
   "cell_type": "code",
   "execution_count": null,
   "metadata": {},
   "outputs": [],
   "source": [
    "invocation_arn = bedrock_video.generate_video(\n",
    "    text=video_prompt,\n",
    "    image=img[0],\n",
    "    imageFormat=\"png\",\n",
    "    durationSeconds=6,\n",
    "    fps=24,\n",
    "    dimension=\"1280x720\"\n",
    ")\n",
    "\n",
    "status, s3Uri, invocation = bedrock_video.query_job(invocation_arn)\n",
    "\n",
    "while status == VideoStatus.IN_PROGRESS:\n",
    "    time.sleep(30)\n",
    "    status, s3Uri, invocation = bedrock_video.query_job(invocation_arn)\n",
    "\n",
    "video = bedrock_video.get_video(invocation_arn=invocation_arn)\n",
    "display_video_bytes(video)"
   ]
  },
  {
   "cell_type": "code",
   "execution_count": null,
   "metadata": {},
   "outputs": [],
   "source": []
  }
 ],
 "metadata": {
  "kernelspec": {
   "display_name": "Python 3",
   "language": "python",
   "name": "python3"
  },
  "language_info": {
   "codemirror_mode": {
    "name": "ipython",
    "version": 3
   },
   "file_extension": ".py",
   "mimetype": "text/x-python",
   "name": "python",
   "nbconvert_exporter": "python",
   "pygments_lexer": "ipython3",
   "version": "3.11.13"
  }
 },
 "nbformat": 4,
 "nbformat_minor": 2
}
