{
 "cells": [
  {
   "cell_type": "markdown",
   "metadata": {},
   "source": [
    "# Install Requirements"
   ]
  },
  {
   "cell_type": "code",
   "execution_count": null,
   "metadata": {},
   "outputs": [],
   "source": [
    "import sys\n",
    "import subprocess\n",
    "\n",
    "def install_packages():\n",
    "    \"\"\"Automatically install required packages\"\"\"\n",
    "    packages = [\n",
    "        'boto3>=1.26.0',\n",
    "        'requests>=2.26.0',\n",
    "        'requests-aws4auth>=1.3.0',\n",
    "        'pillow==11.2.1',\n",
    "        # 'ipython==8.30.0'\n",
    "    ]\n",
    "    \n",
    "    print(\"📦 Installing required packages...\")\n",
    "    for package in packages:\n",
    "        try:\n",
    "            subprocess.check_call([sys.executable, '-m', 'pip', 'install', package])\n",
    "            print(f\"✅ {package} installed successfully\")\n",
    "        except subprocess.CalledProcessError as e:\n",
    "            print(f\"❌ Failed to install {package}: {e}\")\n",
    "    \n",
    "    print(\"\\n🎉 Package installation complete! Run the next cell.\")\n",
    "\n",
    "install_packages()"
   ]
  },
  {
   "cell_type": "code",
   "execution_count": null,
   "metadata": {},
   "outputs": [],
   "source": [
    "import json\n",
    "from bedrock_text import BedrockText\n",
    "from bedrock_image import BedrockAmazonImage, NovaImageSize, ImageParams, ControlMode\n",
    "from bedrock_model import BedrockModel\n",
    "from image_utils import (\n",
    "    get_image_bytes_from_file,\n",
    "    bytes_to_base64,\n",
    "    display_image,\n",
    "    display_image_bytes,\n",
    ")"
   ]
  },
  {
   "cell_type": "markdown",
   "metadata": {},
   "source": [
    "## 0. Declare required models, classes, variables, and data"
   ]
  },
  {
   "cell_type": "code",
   "execution_count": null,
   "metadata": {},
   "outputs": [],
   "source": [
    "AWS_REGION = \"us-east-1\"\n",
    "\n",
    "SAMPLE_IMAGE_PATH = \"./img/ref1-sole hamburger.png\"\n",
    "SAMPLE_IMAGE_FORMAT = \"png\""
   ]
  },
  {
   "cell_type": "code",
   "execution_count": null,
   "metadata": {},
   "outputs": [],
   "source": [
    "# LLM model\n",
    "bedrock_llm = BedrockText(modelId=BedrockModel.NOVA_LITE_CR, region=AWS_REGION)\n",
    "\n",
    "# Image model\n",
    "bedrock_image = BedrockAmazonImage(region=AWS_REGION, modelId=BedrockModel.NOVA_CANVAS)"
   ]
  },
  {
   "cell_type": "code",
   "execution_count": null,
   "metadata": {},
   "outputs": [],
   "source": [
    "# sample image\n",
    "img_bytes = get_image_bytes_from_file(file_path=SAMPLE_IMAGE_PATH, format=SAMPLE_IMAGE_FORMAT)\n",
    "display_image_bytes(img_bytes)\n",
    "\n",
    "# (Optional) if you have any information about the image, fill in this field.\n",
    "photo_text = \"\""
   ]
  },
  {
   "cell_type": "markdown",
   "metadata": {},
   "source": [
    "## 1. Image-to-Text (Nova Lite)"
   ]
  },
  {
   "cell_type": "code",
   "execution_count": null,
   "metadata": {},
   "outputs": [],
   "source": [
    "PROMPT = f\"\"\"You are a copywriter who looks at an image and creates ideas to expand that image.\n",
    "Refer to the given image and image description to write both the menu name and an image description in one sentence in English.\n",
    "\n",
    "## Image Description\n",
    "\n",
    "{photo_text}\n",
    "\n",
    "## Output Format\n",
    "\n",
    "Please provide your description in the following format, without any additional explanation:\n",
    "{{\n",
    "    \"menu_name\": \"Name of the dish based on the image\",\n",
    "    \"prompt\": \"A one-sentence visual description of the food items included in the image\"\n",
    "}}\n",
    "\"\"\"\n",
    "\n",
    "res = bedrock_llm.converse_output(text=PROMPT, image=img_bytes, format=SAMPLE_IMAGE_FORMAT)\n",
    "j = json.loads(res)\n",
    "menu_name = j.get('menu_name', '')\n",
    "prompt = j.get('prompt', '')\n",
    "\n",
    "print(menu_name)\n",
    "print(prompt)"
   ]
  },
  {
   "cell_type": "markdown",
   "metadata": {},
   "source": [
    "## 2. Text-to-Image (Nova Canvas)"
   ]
  },
  {
   "cell_type": "code",
   "execution_count": null,
   "metadata": {},
   "outputs": [],
   "source": [
    "width, height = NovaImageSize.SIZE_1280x720.value\n",
    "image_params = ImageParams(\n",
    "    count=1,\n",
    "    width=width,\n",
    "    height=height,\n",
    "    cfg=8.0,\n",
    ")\n",
    "\n",
    "body = image_params.text_to_image(text=prompt)\n",
    "img = bedrock_image.generate_image(body)\n",
    "display_image(img)"
   ]
  },
  {
   "cell_type": "markdown",
   "metadata": {},
   "source": [
    "## 3. Image-to-Image (Nova Canvas)"
   ]
  },
  {
   "cell_type": "code",
   "execution_count": null,
   "metadata": {},
   "outputs": [],
   "source": [
    "width, height = NovaImageSize.SIZE_512x512.value\n",
    "image_params = ImageParams(\n",
    "    count=1,\n",
    "    width=width,\n",
    "    height=height,\n",
    "    cfg=8.0,\n",
    ")\n",
    "\n",
    "body = image_params.text_to_image(\n",
    "    text=prompt,\n",
    "    condition_image=bytes_to_base64(img_bytes),\n",
    "    control_mode=ControlMode.CANNY_EDGE,\n",
    "    control_strength=0.7,\n",
    ")\n",
    "img = bedrock_image.generate_image(body)\n",
    "display_image(img)"
   ]
  },
  {
   "cell_type": "markdown",
   "metadata": {},
   "source": [
    "## 4. Generate image prompts to create new content (Nova Lite)"
   ]
  },
  {
   "cell_type": "code",
   "execution_count": null,
   "metadata": {},
   "outputs": [],
   "source": [
    "PROMPT = f\"\"\"You are a culinary expert and a creative image prompt generator.\n",
    "\n",
    "## Food\n",
    "\n",
    "{menu_name}\n",
    "\n",
    "## Instruction\n",
    "\n",
    "1. Analyze the provided dish name and image to understand the appearance and characteristics of the food.\n",
    "2. Describe how to prepare the dish in four sequential steps, ensuring the final result resembles the provided image:\n",
    " - Harvesting the main ingredients\n",
    " - Preparing the ingredients\n",
    " - Cooking process\n",
    " - Plating the dish\n",
    "3. For each step, write a clear and detailed prompt for image generation.\n",
    "4. Maintain a consistent style across all prompts.\n",
    "\n",
    "## Output format\n",
    "\n",
    "Please provide your description in the following format, without any additional explanation:\n",
    "[\n",
    "    \"prompt1\",\n",
    "    \"prompt2\",\n",
    "    \"prompt3\",\n",
    "    \"prompt4\"\n",
    "]\n",
    "\"\"\"\n",
    "\n",
    "res = bedrock_llm.converse_output(text=PROMPT)\n",
    "prompts = json.loads(res)\n",
    "print(prompts)"
   ]
  },
  {
   "cell_type": "markdown",
   "metadata": {},
   "source": [
    "## 5. Generate new image contents (Nova Canvas)"
   ]
  },
  {
   "cell_type": "code",
   "execution_count": null,
   "metadata": {},
   "outputs": [],
   "source": [
    "width, height = NovaImageSize.SIZE_512x512.value\n",
    "image_params = ImageParams(\n",
    "    count=1,\n",
    "    width=width,\n",
    "    height=height,\n",
    "    cfg=8.0,\n",
    ")\n",
    "\n",
    "for prompt in prompts:\n",
    "    print(prompt)\n",
    "    body = image_params.text_to_image(text=prompt)\n",
    "    img = bedrock_image.generate_image(body)\n",
    "    display_image(img)"
   ]
  }
 ],
 "metadata": {
  "kernelspec": {
   "display_name": "Python 3",
   "language": "python",
   "name": "python3"
  },
  "language_info": {
   "codemirror_mode": {
    "name": "ipython",
    "version": 3
   },
   "file_extension": ".py",
   "mimetype": "text/x-python",
   "name": "python",
   "nbconvert_exporter": "python",
   "pygments_lexer": "ipython3",
   "version": "3.11.13"
  }
 },
 "nbformat": 4,
 "nbformat_minor": 2
}
